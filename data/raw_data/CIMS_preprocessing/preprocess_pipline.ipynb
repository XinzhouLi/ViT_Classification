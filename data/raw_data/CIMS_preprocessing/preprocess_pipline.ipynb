{
 "cells": [
  {
   "cell_type": "code",
   "execution_count": 1,
   "metadata": {},
   "outputs": [
    {
     "ename": "ModuleNotFoundError",
     "evalue": "No module named 'imblearn'",
     "output_type": "error",
     "traceback": [
      "\u001b[1;31m---------------------------------------------------------------------------\u001b[0m",
      "\u001b[1;31mModuleNotFoundError\u001b[0m                       Traceback (most recent call last)",
      "Cell \u001b[1;32mIn[1], line 21\u001b[0m\n\u001b[0;32m     19\u001b[0m \u001b[38;5;28;01mimport\u001b[39;00m \u001b[38;5;21;01msklearn\u001b[39;00m\n\u001b[0;32m     20\u001b[0m \u001b[38;5;28;01mimport\u001b[39;00m \u001b[38;5;21;01mnibabel\u001b[39;00m \u001b[38;5;28;01mas\u001b[39;00m \u001b[38;5;21;01mnib\u001b[39;00m\n\u001b[1;32m---> 21\u001b[0m \u001b[38;5;28;01mimport\u001b[39;00m \u001b[38;5;21;01mimblearn\u001b[39;00m\n\u001b[0;32m     22\u001b[0m DEVICE \u001b[38;5;241m=\u001b[39m torch\u001b[38;5;241m.\u001b[39mdevice(\u001b[38;5;124m\"\u001b[39m\u001b[38;5;124mcuda\u001b[39m\u001b[38;5;124m\"\u001b[39m) \u001b[38;5;28;01mif\u001b[39;00m torch\u001b[38;5;241m.\u001b[39mcuda\u001b[38;5;241m.\u001b[39mis_available() \u001b[38;5;28;01melse\u001b[39;00m torch\u001b[38;5;241m.\u001b[39mdevice(\u001b[38;5;124m\"\u001b[39m\u001b[38;5;124mcpu\u001b[39m\u001b[38;5;124m\"\u001b[39m)\n",
      "\u001b[1;31mModuleNotFoundError\u001b[0m: No module named 'imblearn'"
     ]
    }
   ],
   "source": [
    "import pathlib\n",
    "import os\n",
    "import random\n",
    "import copy\n",
    "import re\n",
    "from tqdm import tqdm, trange\n",
    "from glob import glob\n",
    "\n",
    "import torch\n",
    "import torch.nn as nn\n",
    "from torch.utils.data import Dataset, DataLoader\n",
    "import torchvision\n",
    "import math\n",
    "\n",
    "import scipy \n",
    "import numpy as np\n",
    "import matplotlib.pyplot as plt\n",
    "from PIL import Image\n",
    "import sklearn\n",
    "import nibabel as nib\n",
    "import imblearn\n",
    "DEVICE = torch.device(\"cuda\") if torch.cuda.is_available() else torch.device(\"cpu\")"
   ]
  },
  {
   "cell_type": "markdown",
   "metadata": {},
   "source": [
    "# Raw Data \n",
    "\n",
    "153 patients have T1/T2/FLAIR\n",
    "\n",
    "\n",
    "2 patients have T1/T2 Missing FLAIR\n",
    "\n",
    "\n",
    "32 patients have T2/FLAIR Missing T1\n",
    "\n",
    "\n",
    "79 SPMS, 69 Stable, 39 Worsening\n",
    "\n",
    "\n",
    "# Data Preprocessed strategy\n",
    "\n",
    "If FLAIR is missing then T2 will be duplicate.\n",
    "\n",
    "\n",
    "If T1 is missing then T2 will be duplicate.\n",
    "\n",
    "Min Max normalization were done by patients (not done by slices)\n",
    "\n",
    "# Data Split strategy\n",
    "\n",
    "60% training, 20% validation, 20% testing\n"
   ]
  },
  {
   "cell_type": "code",
   "execution_count": 7,
   "metadata": {},
   "outputs": [],
   "source": [
    "from re import sub\n",
    "from unittest import result\n",
    "\n",
    "\n",
    "def get_file_path(root:str):\n",
    "    spms, stable, worsening = [],[],[]\n",
    "    paths, split_path = [],[]\n",
    "    for i in list(pathlib.Path(root).glob('*/')):\n",
    "        splited_filename = re.split(r'[\\_\\.]+', str(i))\n",
    "        if 'nii' in splited_filename and 'gz' in splited_filename:\n",
    "            split_path.append(splited_filename) \n",
    "            paths.append(str(i))\n",
    "    spms = find_same_seq(paths, split_path, \"SPMS\", 0)\n",
    "    stable = find_same_seq(paths, split_path, \"stable\", 1)\n",
    "    worsening = find_same_seq(paths, split_path, \"worsening\", 2)\n",
    "\n",
    "    return spms, stable, worsening\n",
    "\n",
    "def find_same_seq(paths, split_path, class_name, label):\n",
    "    TTF,T1T2, T2F, same_class, result= [],[],[],[],[]\n",
    "    for index, value in enumerate(split_path):\n",
    "        if class_name in value:\n",
    "            same_class.append([paths[index], value])\n",
    "    for i in same_class:\n",
    "        if 'T1' in i[1] and 'T2' in i[1] and 'FLAIR' in i[1]:\n",
    "            TTF.append(i[0])\n",
    "        elif 'T1' in i[1] and 'T2' in i[1] and 'FLAIR' not in i[1]:\n",
    "            T1T2.append(i[0])\n",
    "        elif 'T1' not in i[1] and 'T2' in i[1] and 'FLAIR' in i[1]:\n",
    "            T2F.append(i[0])\n",
    "    for i in [TTF, T1T2, T2F]:\n",
    "        if len(i) != 0:\n",
    "            result.append(i)\n",
    "    result.append(label)\n",
    "    return result\n",
    "\n",
    "def concatenate_and_fill(file_paths, slice_range, save_path):\n",
    "    image = []\n",
    "    for i in trange(0, len(file_paths)-1):\n",
    "        lbl = file_paths[-1]\n",
    "        splited_filename = re.split(r'[\\_\\.]+', str(file_paths[i]))\n",
    "        t1,t2,flair = [], [], []\n",
    "        print(file_paths[i])\n",
    "\n",
    "        if 'T1' in splited_filename and 'T2' in splited_filename and 'FLAIR' in splited_filename:\n",
    "            t1 = nib.load(file_paths[i][1]).get_fdata().astype(\"float16\").swapaxes(0,3).swapaxes(1,2)\n",
    "            t2 = nib.load(file_paths[i][2]).get_fdata().astype(\"float16\").swapaxes(0,3).swapaxes(1,2)\n",
    "            flair = nib.load(file_paths[i][0]).get_fdata().astype(\"float16\").swapaxes(0,3).swapaxes(1,2)\n",
    "\n",
    "        elif 'T1' in splited_filename and 'T2' in splited_filename and 'FLAIR' not in splited_filename:\n",
    "            continue\n",
    "            t1 = nib.load(file_paths[i][0]).get_fdata().astype(\"float16\")\n",
    "            t2 = nib.load(file_paths[i][1]).get_fdata().astype(\"float16\")\n",
    "            if len(t1.shape) < 4: \n",
    "                t1 = t1[:,:,:,np.newaxis].swapaxes(0,3).swapaxes(1,2)\n",
    "                t2 = t2[:,:,:,np.newaxis].swapaxes(0,3).swapaxes(1,2)\n",
    "            else:\n",
    "                t1 = nib.load(file_paths[i][0]).get_fdata().astype(\"float16\").swapaxes(0,3).swapaxes(1,2)\n",
    "                t2 = nib.load(file_paths[i][1]).get_fdata().astype(\"float16\").swapaxes(0,3).swapaxes(1,2)\n",
    "            flair = t2\n",
    "\n",
    "        elif 'T1' not in splited_filename and 'T2' in splited_filename and 'FLAIR' in splited_filename:\n",
    "            continue\n",
    "            t1 = nib.load(file_paths[i][1]).get_fdata().astype(\"float16\").swapaxes(0,3).swapaxes(1,2)\n",
    "            t2 = t1\n",
    "            flair = nib.load(file_paths[i][0]).get_fdata().astype(\"float16\").swapaxes(0,3).swapaxes(1,2)\n",
    "\n",
    "        t1 = min_max_normalize(t1[:,slice_range[0]:slice_range[1],np.newaxis, :,:])\n",
    "        t2 = min_max_normalize(t2[:,slice_range[0]:slice_range[1],np.newaxis, :,:])\n",
    "        flair = min_max_normalize(flair[:,slice_range[0]:slice_range[1],np.newaxis, :,:])\n",
    "        concatenated_result = np.concatenate((t1,t2,flair),axis=2)\n",
    "        print(concatenated_result.shape, t1.shape, t2.shape, flair.shape)\n",
    "        print(np.min(concatenated_result), np.max(concatenated_result))\n",
    "        for j in concatenated_result:\n",
    "            image.append(j)\n",
    "\n",
    "    print(np.array(image).shape)\n",
    "    np.save(save_path+'_img.npy', image)\n",
    "\n",
    "\n",
    "def min_max_normalize(input_array):\n",
    "    for (subject_ind, subjects) in enumerate(input_array):\n",
    "        for (slice_ind, slices) in enumerate(subjects):\n",
    "            minimum = np.min(slices)\n",
    "            maximum = np.max(slices)\n",
    "            if maximum == minimum: \n",
    "                continue\n",
    "            input_array[subject_ind][slice_ind] = (slices - minimum)/(maximum-minimum)\n",
    "    return input_array\n"
   ]
  },
  {
   "cell_type": "code",
   "execution_count": 8,
   "metadata": {},
   "outputs": [
    {
     "name": "stderr",
     "output_type": "stream",
     "text": [
      "  0%|          | 0/3 [00:00<?, ?it/s]"
     ]
    },
    {
     "name": "stdout",
     "output_type": "stream",
     "text": [
      "['RRMS_SPMS_T1_T2_FLAIR_FLAIRreg.nii.gz', 'RRMS_SPMS_T1_T2_FLAIR_T1reg.nii.gz', 'RRMS_SPMS_T1_T2_FLAIR_T2reg.nii.gz']\n",
      "(65, 95, 3, 256, 256) (65, 95, 1, 256, 256) (65, 95, 1, 256, 256) (65, 95, 1, 256, 256)\n"
     ]
    },
    {
     "name": "stderr",
     "output_type": "stream",
     "text": [
      "100%|██████████| 3/3 [01:09<00:00, 23.21s/it]"
     ]
    },
    {
     "name": "stdout",
     "output_type": "stream",
     "text": [
      "0.0 1.0\n",
      "['RRMS_SPMS_T1_T2_T1reg.nii.gz', 'RRMS_SPMS_T1_T2_T2reg.nii.gz']\n",
      "['RRMS_SPMS_T2_FLAIR_FLAIRreg.nii.gz', 'RRMS_SPMS_T2_FLAIR_T2reg.nii.gz']\n"
     ]
    },
    {
     "name": "stderr",
     "output_type": "stream",
     "text": [
      "\n"
     ]
    },
    {
     "name": "stdout",
     "output_type": "stream",
     "text": [
      "(65, 95, 3, 256, 256)\n"
     ]
    },
    {
     "name": "stderr",
     "output_type": "stream",
     "text": [
      "  0%|          | 0/2 [00:00<?, ?it/s]"
     ]
    },
    {
     "name": "stdout",
     "output_type": "stream",
     "text": [
      "['RRMS_stable_T1_T2_FLAIR_FLAIRreg.nii.gz', 'RRMS_stable_T1_T2_FLAIR_T1reg.nii.gz', 'RRMS_stable_T1_T2_FLAIR_T2reg.nii.gz']\n",
      "(57, 95, 3, 256, 256) (57, 95, 1, 256, 256) (57, 95, 1, 256, 256) (57, 95, 1, 256, 256)\n"
     ]
    },
    {
     "name": "stderr",
     "output_type": "stream",
     "text": [
      "100%|██████████| 2/2 [00:51<00:00, 25.61s/it]"
     ]
    },
    {
     "name": "stdout",
     "output_type": "stream",
     "text": [
      "0.0 1.0\n",
      "['RRMS_stable_T2_FLAIR_FLAIRreg.nii.gz', 'RRMS_stable_T2_FLAIR_T2reg.nii.gz']\n"
     ]
    },
    {
     "name": "stderr",
     "output_type": "stream",
     "text": [
      "\n"
     ]
    },
    {
     "name": "stdout",
     "output_type": "stream",
     "text": [
      "(57, 95, 3, 256, 256)\n"
     ]
    },
    {
     "name": "stderr",
     "output_type": "stream",
     "text": [
      "  0%|          | 0/3 [00:00<?, ?it/s]"
     ]
    },
    {
     "name": "stdout",
     "output_type": "stream",
     "text": [
      "['RRMS_worsening_T1_T2_FLAIR_FLAIRreg.nii.gz', 'RRMS_worsening_T1_T2_FLAIR_T1reg.nii.gz', 'RRMS_worsening_T1_T2_FLAIR_T2reg.nii.gz']\n",
      "(31, 95, 3, 256, 256) (31, 95, 1, 256, 256) (31, 95, 1, 256, 256) (31, 95, 1, 256, 256)\n"
     ]
    },
    {
     "name": "stderr",
     "output_type": "stream",
     "text": [
      "100%|██████████| 3/3 [00:26<00:00,  8.82s/it]"
     ]
    },
    {
     "name": "stdout",
     "output_type": "stream",
     "text": [
      "0.0 1.0\n",
      "['RRMS_worsening_T1_T2_T1reg.nii.gz', 'RRMS_worsening_T1_T2_T2reg.nii.gz']\n",
      "['RRMS_worsening_T2_FLAIR_FLAIRreg.nii.gz', 'RRMS_worsening_T2_FLAIR_T2reg.nii.gz']\n"
     ]
    },
    {
     "name": "stderr",
     "output_type": "stream",
     "text": [
      "\n"
     ]
    },
    {
     "name": "stdout",
     "output_type": "stream",
     "text": [
      "(31, 95, 3, 256, 256)\n"
     ]
    }
   ],
   "source": [
    "slice_range = [30, 125]    \n",
    "spms, stable, worsening = get_file_path(\"\")\n",
    "concatenate_and_fill(spms, slice_range, '..\\..\\..\\data\\preprocessed_data\\SPMS_3Classes_187patients\\spms')\n",
    "concatenate_and_fill(stable, slice_range, '..\\..\\..\\data\\preprocessed_data\\SPMS_3Classes_187patients\\stable')\n",
    "concatenate_and_fill(worsening, slice_range, '..\\..\\..\\data\\preprocessed_data\\SPMS_3Classes_187patients\\worsening')"
   ]
  },
  {
   "cell_type": "markdown",
   "metadata": {},
   "source": [
    "# Split dataset"
   ]
  },
  {
   "cell_type": "code",
   "execution_count": 9,
   "metadata": {},
   "outputs": [],
   "source": [
    "def patients_index(total_patients, ratio):\n",
    "    result = []\n",
    "    for i in total_patients:\n",
    "        temp = [math.floor(i*ratio[0]), math.floor(i*ratio[1]), math.floor(i*ratio[2])]\n",
    "        while sum(temp) != i:\n",
    "            temp[0]+=1\n",
    "        temp[1] = temp[0] + temp[1]\n",
    "        temp[2] = temp[1] + temp[2]\n",
    "        result.append(temp)\n",
    "    return result\n",
    "\n",
    "def construct_dataset(patients_index, file_path, save_path):\n",
    "\n",
    "    class0 = np.load(file_path[0])\n",
    "    np.random.shuffle(class0 )\n",
    "    class1 = np.load(file_path[1])\n",
    "    np.random.shuffle(class1)\n",
    "    class2 = np.load(file_path[2])\n",
    "    np.random.shuffle(class2)\n",
    "    num_slices_per_patient = class0.shape[1]\n",
    "    train = np.concatenate((class0[0:patients_index[0][0]], class1[0:patients_index[1][0]], class2[0:patients_index[2][0]]), axis=0)\n",
    "    val = np.concatenate((class0[patients_index[0][0]:patients_index[0][1]], class1[patients_index[1][0]:patients_index[1][1]], class2[patients_index[2][0]:patients_index[2][1]]), axis=0)\n",
    "    test = np.concatenate((class0[patients_index[0][1]:patients_index[0][2]], class1[patients_index[1][1]:patients_index[1][2]], class2[patients_index[2][1]:patients_index[2][2]]), axis=0)\n",
    "\n",
    "\n",
    "\n",
    "    train = np.reshape(train, (train.shape[0]*train.shape[1], train.shape[2], train.shape[3], train.shape[4]))\n",
    "    test = np.reshape(test, (test.shape[0]*test.shape[1], test.shape[2], test.shape[3], test.shape[4]))\n",
    "    val = np.reshape(val, (val.shape[0]*val.shape[1], val.shape[2], val.shape[3], val.shape[4]))\n",
    "    print(train.shape, test.shape, val.shape)\n",
    "\n",
    "    np.save(save_path+'training_img.npy', train)\n",
    "    np.save(save_path+'testing_img.npy', test)\n",
    "    np.save(save_path+'validation_img.npy', val)\n",
    "\n",
    "    np.save(save_path+'training_lbl.npy', np.concatenate((np.array([0]*((patients_index[0][0])*num_slices_per_patient)), np.array([1]*((patients_index[1][0])*num_slices_per_patient)), np.array([2]*((patients_index[2][0])*num_slices_per_patient)))))\n",
    "    np.save(save_path+'testing_lbl.npy', np.concatenate((np.array([0]*((patients_index[0][1]-patients_index[0][0])*num_slices_per_patient)), np.array([1]*((patients_index[1][1]-patients_index[1][0])*num_slices_per_patient)), np.array([2]*((patients_index[2][1]-patients_index[2][0])*num_slices_per_patient)))))\n",
    "    np.save(save_path+'validation_lbl.npy', np.concatenate((np.array([0]*((patients_index[0][2]-patients_index[0][1])*num_slices_per_patient)), np.array([1]*((patients_index[1][2]-patients_index[1][1])*num_slices_per_patient)), np.array([2]*((patients_index[2][2]-patients_index[2][1])*num_slices_per_patient)))))\n"
   ]
  },
  {
   "cell_type": "code",
   "execution_count": 10,
   "metadata": {},
   "outputs": [
    {
     "name": "stdout",
     "output_type": "stream",
     "text": [
      "(8835, 3, 256, 256) (2850, 3, 256, 256) (2850, 3, 256, 256)\n"
     ]
    }
   ],
   "source": [
    "num_subjects = [65,57,31]\n",
    "ratio = [0.6, 0.2, 0.2]\n",
    "file_paths = ['../../../data/preprocessed_data/SPMS_3Classes_187patients/spms_img.npy', '../../../data/preprocessed_data/SPMS_3Classes_187patients/stable_img.npy', '../../../data/preprocessed_data/SPMS_3Classes_187patients/worsening_img.npy']\n",
    "saving_path = '../../../data/preprocessed_data/SPMS_3Classes_187patients/'\n",
    "patients_index_per_set = patients_index(num_subjects, ratio)\n",
    "construct_dataset(patients_index_per_set, file_paths, saving_path)"
   ]
  },
  {
   "cell_type": "markdown",
   "metadata": {},
   "source": [
    "# Upsampling dataset"
   ]
  },
  {
   "cell_type": "code",
   "execution_count": null,
   "metadata": {},
   "outputs": [],
   "source": [
    "def resampling(imgs, lbls, transforms, type='SMOTE' ):\n",
    "    raw_imgs = imgs\n",
    "    raw_labels = lbls\n",
    "\n",
    "    # get all the images and labels out form the input dataset\n",
    "    # for index,(img, lab) in enumerate(dataset):\n",
    "    #     raw_imgs.append(img.numpy())\n",
    "    #     raw_labels.append(lab)\n",
    "    print(raw_imgs[0].dtype, raw_imgs[0].shape)\n",
    "    height = raw_imgs[0].shape[1]\n",
    "    width = raw_imgs[0].shape[2]\n",
    "    channel = raw_imgs[0].shape[0]\n",
    "    # change the data type from original list to numpy array\n",
    "    raw_imgs = np.array(raw_imgs)\n",
    "    raw_labels = np.array(raw_labels)\n",
    "\n",
    "    # resize the image form 4D array(total num of samples, C, W, H ) to 2d array(total num of samples, C*H*W) \n",
    "    raw_imgs = np.reshape(raw_imgs, (raw_imgs.shape[0], height*width*channel))\n",
    "\n",
    "    # Define the SMOTE alg, SMOTE can be change to other varients of SMOTE\n",
    "    s = 0\n",
    "    if (type == 'SMOTE'):\n",
    "        print(\"SMOTE\")\n",
    "        s = imblearn.over_sampling.SMOTE(random_state=42)\n",
    "    elif(type == 'board_smote'):\n",
    "        print(\"board_smote\")\n",
    "        s = imblearn.over_sampling.BorderlineSMOTE(random_state=42)\n",
    "    elif(type == 'ADASYNC'):\n",
    "        print(\"ADASYNC\")\n",
    "        s = imblearn.over_sampling.ADASYN(random_state=42)\n",
    "    elif(type == 'SVM'):\n",
    "        print(\"SVM\")\n",
    "        s = imblearn.over_sampling.SVMSMOTE(random_state=42)\n",
    "    elif(type == 'SMOTEENN'):\n",
    "        print(\"SMOTEENN\")\n",
    "        s = imblearn.combine.SMOTEENN(random_state=42)\n",
    "    elif(type == \"SMOTETomek\"):\n",
    "        print(\"SMOTETomek\")\n",
    "        s = imblearn.combine.SMOTETomek(random_state = 42)\n",
    "    resampled_img, resampled_lbl = s.fit_resample(raw_imgs, raw_labels)\n",
    "    # resize the output of samples form (total num of samples, C*H*W) to (total num of samples, C, W, H )\n",
    "    resampled_img = resampled_img.reshape((resampled_img.shape[0], channel,height,width))\n",
    "    return Resampled_dataset(resampled_img, resampled_lbl, transforms)"
   ]
  },
  {
   "cell_type": "markdown",
   "metadata": {},
   "source": [
    "# Validation "
   ]
  },
  {
   "cell_type": "code",
   "execution_count": null,
   "metadata": {},
   "outputs": [],
   "source": [
    "readin = np.load(\"D:/allWorkingSpaces/ViT_Classification/data/preprocessed_data/SPMS_3Classes_187patients/testing_img.npy\").astype(\"float16\")\n",
    "readin2 = np.load(\"D:/allWorkingSpaces/ViT_Classification/data/preprocessed_data/SPMS_3Classes_187patients/worsening_lbl.npy\").astype(\"float16\")\n",
    "print(readin.shape)\n",
    "print(readin)\n",
    "# print(np.reshape(readin,(6084,3,256,256)).shape, readin2.shape)\n"
   ]
  },
  {
   "cell_type": "code",
   "execution_count": 30,
   "metadata": {},
   "outputs": [
    {
     "data": {
      "text/plain": [
       "<matplotlib.image.AxesImage at 0x23d007ca170>"
      ]
     },
     "execution_count": 30,
     "metadata": {},
     "output_type": "execute_result"
    },
    {
     "data": {
      "image/png": "[encoded data removed]",
      "text/plain": [
       "<Figure size 640x480 with 1 Axes>"
      ]
     },
     "metadata": {},
     "output_type": "display_data"
    }
   ],
   "source": [
    "plt.imshow(np.reshape(readin,(3325,3,256,256))[50][2], cmap=\"grey\")\n"
   ]
  },
  {
   "cell_type": "markdown",
   "metadata": {},
   "source": [
    "normalization, min max method to change the range form 0-1.\n",
    "Try CNN.\n",
    "z-scored normalization "
   ]
  }
 ],
 "metadata": {
  "kernelspec": {
   "display_name": "torch2.1",
   "language": "python",
   "name": "python3"
  },
  "language_info": {
   "codemirror_mode": {
    "name": "ipython",
    "version": 3
   },
   "file_extension": ".py",
   "mimetype": "text/x-python",
   "name": "python",
   "nbconvert_exporter": "python",
   "pygments_lexer": "ipython3",
   "version": "3.10.13"
  }
 },
 "nbformat": 4,
 "nbformat_minor": 2
}
